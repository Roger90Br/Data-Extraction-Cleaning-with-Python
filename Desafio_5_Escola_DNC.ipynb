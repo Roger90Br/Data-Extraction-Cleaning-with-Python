{
  "nbformat": 4,
  "nbformat_minor": 0,
  "metadata": {
    "colab": {
      "provenance": [],
      "authorship_tag": "ABX9TyMTZ2Y1H/ZMdeVd3lz+e6H8",
      "include_colab_link": true
    },
    "kernelspec": {
      "name": "python3",
      "display_name": "Python 3"
    },
    "language_info": {
      "name": "python"
    }
  },
  "cells": [
    {
      "cell_type": "markdown",
      "metadata": {
        "id": "view-in-github",
        "colab_type": "text"
      },
      "source": [
        "<a href=\"https://colab.research.google.com/github/Roger90Br/Data-Extraction-Cleaning-with-Python/blob/main/Desafio_5_Escola_DNC.ipynb\" target=\"_parent\"><img src=\"https://colab.research.google.com/assets/colab-badge.svg\" alt=\"Open In Colab\"/></a>"
      ]
    },
    {
      "cell_type": "markdown",
      "source": [
        "**1- Leia o arquivo e inspecione os dados**"
      ],
      "metadata": {
        "id": "koDDOQkZF94S"
      }
    },
    {
      "cell_type": "code",
      "execution_count": null,
      "metadata": {
        "colab": {
          "base_uri": "https://localhost:8080/"
        },
        "id": "4KNnPwbNWzg-",
        "outputId": "a0d75567-674e-4c6c-b0ca-3eca62b453c9"
      },
      "outputs": [
        {
          "output_type": "stream",
          "name": "stderr",
          "text": [
            "<ipython-input-158-c1c00996ac34>:4: FutureWarning: The error_bad_lines argument has been deprecated and will be removed in a future version. Use on_bad_lines in the future.\n",
            "\n",
            "\n",
            "  data = pd.read_csv('data.csv', encoding='ISO-8859-1', error_bad_lines=False)\n"
          ]
        },
        {
          "output_type": "stream",
          "name": "stdout",
          "text": [
            "Descrição dos dados:\n",
            "            Quantity      UnitPrice     CustomerID\n",
            "count  420898.000000  420898.000000  420898.000000\n",
            "mean       12.117877       3.455848   15282.158525\n",
            "std       293.345628      68.177678    1716.526088\n",
            "min    -80995.000000       0.000000   12346.000000\n",
            "25%         2.000000       1.250000   13929.000000\n",
            "50%         5.000000       1.950000   15149.000000\n",
            "75%        12.000000       3.750000   16790.000000\n",
            "max     80995.000000   38970.000000   18287.000000\n",
            "\n",
            "Tipos de dados:\n",
            "InvoiceNo       object\n",
            "StockCode       object\n",
            "Description     object\n",
            "Quantity       float64\n",
            "InvoiceDate     object\n",
            "UnitPrice      float64\n",
            "CustomerID     float64\n",
            "Country         object\n",
            "dtype: object\n"
          ]
        }
      ],
      "source": [
        "import pandas as pd\n",
        "\n",
        "# Passo 1: Leia o dataset\n",
        "data = pd.read_csv('data.csv', encoding='ISO-8859-1', error_bad_lines=False)\n",
        "\n",
        "# Passo 2: Utilize o describe para verificar a distribuição dos dados\n",
        "description = data.describe()\n",
        "print(\"Descrição dos dados:\")\n",
        "print(description)\n",
        "\n",
        "# Passo 3: Analise o tipo dos dados\n",
        "data_types = data.dtypes\n",
        "print(\"\\nTipos de dados:\")\n",
        "print(data_types)\n"
      ]
    },
    {
      "cell_type": "markdown",
      "source": [
        "O aviso \"FutureWarning: The error_bad_lines argument has been deprecated and will be removed in a future version. Use on_bad_lines in the future.\" indica que o argumento `error_bad_lines` utilizado na função `pd.read_csv()` está obsoleto e será removido em versões futuras do pandas. Em vez disso, recomenda-se usar o argumento `on_bad_lines`.\n",
        "\n",
        "No código fornecido, o `error_bad_lines=False` é utilizado para ignorar linhas que não podem ser analisadas corretamente ao ler o arquivo CSV. No entanto, devido ao aviso, é importante considerar atualizar o código para usar `on_bad_lines` em vez de `error_bad_lines` para garantir compatibilidade com futuras versões do pandas.\n",
        "\n",
        "Infelizmente, o aviso não foi resolvido no momento e a mensagem indica que o argumento `error_bad_lines` foi utilizado. Sugere-se revisar e atualizar o código para usar o argumento `on_bad_lines` conforme recomendado pelo aviso."
      ],
      "metadata": {
        "id": "LrVtdn-YMvn9"
      }
    },
    {
      "cell_type": "code",
      "source": [
        "import pandas as pd\n",
        "\n",
        "# Leia o dataset\n",
        "data = pd.read_csv('data.csv', encoding='ISO-8859-1', error_bad_lines=False)\n",
        "\n",
        "# Exiba as primeiras linhas do DataFrame de forma mais bonita\n",
        "print(\"Primeiras linhas do DataFrame:\")\n",
        "print(data.head().to_string(index=False, justify='center'))  # Centraliza o conteúdo da tabela\n"
      ],
      "metadata": {
        "colab": {
          "base_uri": "https://localhost:8080/"
        },
        "id": "TNcCwYRtD8_w",
        "outputId": "93e09903-b4d0-46c3-d0f3-f1847614c981"
      },
      "execution_count": null,
      "outputs": [
        {
          "output_type": "stream",
          "name": "stderr",
          "text": [
            "<ipython-input-159-9ddcd59badce>:4: FutureWarning: The error_bad_lines argument has been deprecated and will be removed in a future version. Use on_bad_lines in the future.\n",
            "\n",
            "\n",
            "  data = pd.read_csv('data.csv', encoding='ISO-8859-1', error_bad_lines=False)\n"
          ]
        },
        {
          "output_type": "stream",
          "name": "stdout",
          "text": [
            "Primeiras linhas do DataFrame:\n",
            "InvoiceNo StockCode             Description              Quantity  InvoiceDate    UnitPrice  CustomerID    Country    \n",
            "  536365    85123A   WHITE HANGING HEART T-LIGHT HOLDER    6.0    12/1/2010 8:26    2.55      17850.0   United Kingdom\n",
            "  536365     71053                  WHITE METAL LANTERN    6.0    12/1/2010 8:26    3.39      17850.0   United Kingdom\n",
            "  536365    84406B       CREAM CUPID HEARTS COAT HANGER    8.0    12/1/2010 8:26    2.75      17850.0   United Kingdom\n",
            "  536365    84029G  KNITTED UNION FLAG HOT WATER BOTTLE    6.0    12/1/2010 8:26    3.39      17850.0   United Kingdom\n",
            "  536365    84029E       RED WOOLLY HOTTIE WHITE HEART.    6.0    12/1/2010 8:26    3.39      17850.0   United Kingdom\n"
          ]
        }
      ]
    },
    {
      "cell_type": "markdown",
      "source": [
        "**2 - Verifique se há valores faltantes na identificação do cliente**"
      ],
      "metadata": {
        "id": "xTA50GdQGWTK"
      }
    },
    {
      "cell_type": "code",
      "source": [
        "import pandas as pd\n",
        "\n",
        "# Passo 1: Ler o arquivo CSV\n",
        "data = pd.read_csv('data.csv', encoding='ISO-8859-1', error_bad_lines=False)\n",
        "\n",
        "# Passo 2: Verificar se há valores faltantes na coluna CustomerID\n",
        "valores_faltantes = data['CustomerID'].isnull().sum()\n",
        "\n",
        "# Se houver valores faltantes, remova as linhas correspondentes\n",
        "if valores_faltantes > 0:\n",
        "    data = data.dropna(subset=['CustomerID'])\n",
        "\n",
        "    # Passo 3: Salvar o DataFrame resultante em um novo arquivo CSV\n",
        "    data.to_csv('data.csv', index=False)\n",
        "    print(\"Linhas com valores faltantes removidas. Arquivo CSV salvo com sucesso!\")\n",
        "else:\n",
        "    print(\"Não há valores faltantes na coluna CustomerID.\")\n"
      ],
      "metadata": {
        "colab": {
          "base_uri": "https://localhost:8080/"
        },
        "id": "DWEnueLFHA3A",
        "outputId": "bb65e75a-3e2b-4b07-dfd7-b772becc2883"
      },
      "execution_count": null,
      "outputs": [
        {
          "output_type": "stream",
          "name": "stderr",
          "text": [
            "<ipython-input-160-1517e009e180>:4: FutureWarning: The error_bad_lines argument has been deprecated and will be removed in a future version. Use on_bad_lines in the future.\n",
            "\n",
            "\n",
            "  data = pd.read_csv('data.csv', encoding='ISO-8859-1', error_bad_lines=False)\n"
          ]
        },
        {
          "output_type": "stream",
          "name": "stdout",
          "text": [
            "Não há valores faltantes na coluna CustomerID.\n"
          ]
        }
      ]
    },
    {
      "cell_type": "markdown",
      "source": [
        "**3- Verifique se há produtos com preços unitários iguais ou inferior a 0**"
      ],
      "metadata": {
        "id": "dlGIEjTDHdVg"
      }
    },
    {
      "cell_type": "code",
      "source": [
        "import pandas as pd\n",
        "\n",
        "# Passo 1: Leia o dataset\n",
        "data = pd.read_csv('data.csv', encoding='ISO-8859-1', error_bad_lines=False)\n",
        "\n",
        "# Corrigir tipos de dados\n",
        "data['InvoiceDate'] = pd.to_datetime(data['InvoiceDate'], format='%d/%m/%Y %H:%M', errors='coerce')\n",
        "data['UnitPrice'] = pd.to_numeric(data['UnitPrice'], errors='coerce')\n",
        "\n",
        "# Filtro para verificar se existem dados nulos ou menor que zero na coluna de preços\n",
        "precos_nulos_ou_negativos = data[data['UnitPrice'].isna() | (data['UnitPrice'] <= 0)]\n",
        "\n",
        "# Filtro para conter apenas preços acima de zero\n",
        "data_precos_positivos = data[data['UnitPrice'] > 0]\n",
        "\n",
        "# Filtro para verificar se existem dados nulos ou menor que zero na coluna de quantidade\n",
        "quantidades_nulas_ou_negativas = data[data['Quantity'].isna() | (data['Quantity'] <= 0)]\n",
        "\n",
        "# Filtro para conter apenas quantidades acima de zero\n",
        "data_quantidades_positivas = data[data['Quantity'] > 0]\n",
        "\n",
        "# Exibindo resultados\n",
        "print(\"Quantidade de valores nulos ou negativos na coluna de preços:\")\n",
        "print(len(precos_nulos_ou_negativos))\n",
        "print(\"\\nQuantidade de valores nulos ou negativos na coluna de quantidade:\")\n",
        "print(len(quantidades_nulas_ou_negativas))"
      ],
      "metadata": {
        "colab": {
          "base_uri": "https://localhost:8080/"
        },
        "id": "7d41EeD8fwhA",
        "outputId": "70fd3eaa-44d4-4432-8893-0667fa579c7f"
      },
      "execution_count": null,
      "outputs": [
        {
          "output_type": "stream",
          "name": "stderr",
          "text": [
            "<ipython-input-161-b2e493181a64>:4: FutureWarning: The error_bad_lines argument has been deprecated and will be removed in a future version. Use on_bad_lines in the future.\n",
            "\n",
            "\n",
            "  data = pd.read_csv('data.csv', encoding='ISO-8859-1', error_bad_lines=False)\n"
          ]
        },
        {
          "output_type": "stream",
          "name": "stdout",
          "text": [
            "Quantidade de valores nulos ou negativos na coluna de preços:\n",
            "44\n",
            "\n",
            "Quantidade de valores nulos ou negativos na coluna de quantidade:\n",
            "9347\n"
          ]
        }
      ]
    },
    {
      "cell_type": "markdown",
      "source": [
        "**4 - Verifique se há produtos com quantidade igual ou inferior a 0**"
      ],
      "metadata": {
        "id": "3XQjcJ9JI0J0"
      }
    },
    {
      "cell_type": "code",
      "source": [
        "import pandas as pd\n",
        "\n",
        "# Leia o dataset\n",
        "data = pd.read_csv('data.csv', encoding='ISO-8859-1', error_bad_lines=False)\n",
        "\n",
        "# Verifique os valores nulos com isna e utilize a função sum para somar a quantidade de nulos\n",
        "quantidade_nulos_por_coluna = data.isna().sum()\n",
        "print(\"Quantidade de valores nulos por coluna:\")\n",
        "print(quantidade_nulos_por_coluna)\n",
        "\n",
        "# Utilize a função dropna para remover os nulos\n",
        "data_sem_nulos = data.dropna()\n"
      ],
      "metadata": {
        "colab": {
          "base_uri": "https://localhost:8080/"
        },
        "id": "kwnJq0fndCKk",
        "outputId": "e2f9bf9f-1ae5-4537-d5a4-907733d328f7"
      },
      "execution_count": null,
      "outputs": [
        {
          "output_type": "stream",
          "name": "stderr",
          "text": [
            "<ipython-input-162-cc8c41ef8e39>:4: FutureWarning: The error_bad_lines argument has been deprecated and will be removed in a future version. Use on_bad_lines in the future.\n",
            "\n",
            "\n",
            "  data = pd.read_csv('data.csv', encoding='ISO-8859-1', error_bad_lines=False)\n"
          ]
        },
        {
          "output_type": "stream",
          "name": "stdout",
          "text": [
            "Quantidade de valores nulos por coluna:\n",
            "InvoiceNo      0\n",
            "StockCode      0\n",
            "Description    0\n",
            "Quantity       0\n",
            "InvoiceDate    0\n",
            "UnitPrice      0\n",
            "CustomerID     0\n",
            "Country        0\n",
            "dtype: int64\n"
          ]
        }
      ]
    },
    {
      "cell_type": "markdown",
      "source": [
        "**5 - Verifique se existem linhas duplicadas**"
      ],
      "metadata": {
        "id": "0TwMQ-RnI7eK"
      }
    },
    {
      "cell_type": "code",
      "source": [
        "# Verificar se existem linhas duplicadas\n",
        "linhas_duplicadas = data[data.duplicated()]\n",
        "\n",
        "# Exibir quantidade de linhas duplicadas\n",
        "print(\"Quantidade de linhas duplicadas:\")\n",
        "print(len(linhas_duplicadas))"
      ],
      "metadata": {
        "colab": {
          "base_uri": "https://localhost:8080/"
        },
        "id": "-jy4SimGiX5T",
        "outputId": "a89271d1-1eb8-4a44-ee22-1e8c98e174db"
      },
      "execution_count": null,
      "outputs": [
        {
          "output_type": "stream",
          "name": "stdout",
          "text": [
            "Quantidade de linhas duplicadas:\n",
            "19295\n"
          ]
        }
      ]
    },
    {
      "cell_type": "code",
      "source": [
        "# Remover as linhas duplicadas\n",
        "data_sem_duplicatas = data.drop_duplicates()\n",
        "\n",
        "# Exibir informações sobre o dataset após a remoção de duplicatas\n",
        "print(\"\\nInformações do dataset após a remoção de duplicatas:\")\n",
        "print(data_sem_duplicatas.info())\n"
      ],
      "metadata": {
        "colab": {
          "base_uri": "https://localhost:8080/"
        },
        "id": "HSVLMRarjiCX",
        "outputId": "3e27d35e-344c-4495-adc7-aa33babeaa5d"
      },
      "execution_count": null,
      "outputs": [
        {
          "output_type": "stream",
          "name": "stdout",
          "text": [
            "\n",
            "Informações do dataset após a remoção de duplicatas:\n",
            "<class 'pandas.core.frame.DataFrame'>\n",
            "Int64Index: 401603 entries, 0 to 420897\n",
            "Data columns (total 8 columns):\n",
            " #   Column       Non-Null Count   Dtype  \n",
            "---  ------       --------------   -----  \n",
            " 0   InvoiceNo    401603 non-null  object \n",
            " 1   StockCode    401603 non-null  object \n",
            " 2   Description  401603 non-null  object \n",
            " 3   Quantity     401603 non-null  float64\n",
            " 4   InvoiceDate  401603 non-null  object \n",
            " 5   UnitPrice    401603 non-null  float64\n",
            " 6   CustomerID   401603 non-null  float64\n",
            " 7   Country      401603 non-null  object \n",
            "dtypes: float64(3), object(5)\n",
            "memory usage: 27.6+ MB\n",
            "None\n"
          ]
        }
      ]
    },
    {
      "cell_type": "markdown",
      "source": [
        "**6 - Tipos de dados da coluna**"
      ],
      "metadata": {
        "id": "z4E4BEffJVFI"
      }
    },
    {
      "cell_type": "code",
      "source": [
        "# Corrigir o tipo de dados das colunas\n",
        "data['InvoiceNo'] = data['InvoiceNo'].astype(str)\n",
        "data['StockCode'] = data['StockCode'].astype(str)\n",
        "data['Description'] = data['Description'].astype(str)\n",
        "data['Quantity'] = data['Quantity'].astype(int)\n",
        "data['InvoiceDate'] = pd.to_datetime(data['InvoiceDate'], format='%d/%m/%Y %H:%M', errors='coerce')\n",
        "data['UnitPrice'] = pd.to_numeric(data['UnitPrice'], errors='coerce')  # Corrigido para garantir que valores não numéricos sejam tratados como NaN\n",
        "data['CustomerID'] = data['CustomerID'].astype('Int64')\n",
        "data['Country'] = data['Country'].astype(str)\n",
        "\n",
        "data_types = data.dtypes\n",
        "print(\"\\nTipos de dados:\")\n",
        "print(data_types)"
      ],
      "metadata": {
        "colab": {
          "base_uri": "https://localhost:8080/"
        },
        "id": "pv-FnZdVlc-q",
        "outputId": "7b52a922-502b-4a14-a48d-223442457397"
      },
      "execution_count": null,
      "outputs": [
        {
          "output_type": "stream",
          "name": "stdout",
          "text": [
            "\n",
            "Tipos de dados:\n",
            "InvoiceNo              object\n",
            "StockCode              object\n",
            "Description            object\n",
            "Quantity                int64\n",
            "InvoiceDate    datetime64[ns]\n",
            "UnitPrice             float64\n",
            "CustomerID              Int64\n",
            "Country                object\n",
            "dtype: object\n"
          ]
        }
      ]
    },
    {
      "cell_type": "markdown",
      "source": [
        "**7 - Tratando os outliers**"
      ],
      "metadata": {
        "id": "3M2FqHXKJeD0"
      }
    },
    {
      "cell_type": "code",
      "source": [
        "import seaborn as sns\n",
        "import matplotlib.pyplot as plt\n",
        "\n",
        "# Visualizar os outliers\n",
        "plt.figure(figsize=(10, 6))\n",
        "sns.scatterplot(x='Quantity', y='UnitPrice', data=data)\n",
        "plt.title('Dispersão de Quantidade x Preço Unitário')\n",
        "plt.xlabel('Quantidade')\n",
        "plt.ylabel('Preço Unitário')\n",
        "plt.grid(True)\n",
        "plt.show()\n",
        "\n",
        "# Remover os outliers\n",
        "data = data[(data['Quantity'] <= 10000) & (data['UnitPrice'] <= 5000)]\n"
      ],
      "metadata": {
        "colab": {
          "base_uri": "https://localhost:8080/",
          "height": 565
        },
        "id": "Gk8J8REfkMpb",
        "outputId": "89e43ed8-2a5c-42ca-8e0d-0f46bd75c9ac"
      },
      "execution_count": null,
      "outputs": [
        {
          "output_type": "display_data",
          "data": {
            "text/plain": [
              "<Figure size 1000x600 with 1 Axes>"
            ],
            "image/png": "[encoded data removed]"
          },
          "metadata": {}
        }
      ]
    },
    {
      "cell_type": "markdown",
      "source": [
        "**8 - Crie uma coluna adicional **"
      ],
      "metadata": {
        "id": "R-0A9pwxJjUI"
      }
    },
    {
      "cell_type": "code",
      "source": [
        "# Criar uma coluna adicional com o preço total da compra\n",
        "data.loc[:, 'TotalPrice'] = data['Quantity'] * data['UnitPrice']\n"
      ],
      "metadata": {
        "id": "ogpGG3bQmGTe"
      },
      "execution_count": null,
      "outputs": []
    },
    {
      "cell_type": "markdown",
      "source": [
        "**9 - Última data**"
      ],
      "metadata": {
        "id": "aLxeyGCyJvOp"
      }
    },
    {
      "cell_type": "code",
      "source": [
        "# Calcular a data da última compra no dataset\n",
        "ultima_compra = data['InvoiceDate'].max()\n",
        "\n",
        "print(\"Data da última compra no dataset:\", ultima_compra)\n"
      ],
      "metadata": {
        "colab": {
          "base_uri": "https://localhost:8080/"
        },
        "id": "jECDnQEQmbmb",
        "outputId": "e9922c69-b5c5-4836-a2db-775e3f2c7a76"
      },
      "execution_count": null,
      "outputs": [
        {
          "output_type": "stream",
          "name": "stdout",
          "text": [
            "Data da última compra no dataset: 2011-12-10 17:19:00\n"
          ]
        }
      ]
    },
    {
      "cell_type": "markdown",
      "source": [
        "*10 - Plotando gráficos*\n",
        "\n",
        "**Top 10 países com maior valor em vendas**"
      ],
      "metadata": {
        "id": "rYR8FWlfJ6XC"
      }
    },
    {
      "cell_type": "code",
      "source": [
        "# Agrupar por país e calcular o valor total de vendas\n",
        "vendas_por_pais = data.groupby('Country')['TotalPrice'].sum()\n",
        "\n",
        "# Ordenar em ordem decrescente e pegar os top 10 países\n",
        "top_10_paises = vendas_por_pais.nlargest(10)\n",
        "\n",
        "print(\"Top 10 países com maior valor em vendas:\")\n",
        "print(top_10_paises)\n"
      ],
      "metadata": {
        "colab": {
          "base_uri": "https://localhost:8080/"
        },
        "id": "FXmMhvdfuO6J",
        "outputId": "1ae9b2d5-5642-450b-cf6f-d598fd46d046"
      },
      "execution_count": null,
      "outputs": [
        {
          "output_type": "stream",
          "name": "stdout",
          "text": [
            "Top 10 países com maior valor em vendas:\n",
            "Country\n",
            "United Kingdom    6746977.464\n",
            "Netherlands        303642.480\n",
            "EIRE               268253.790\n",
            "Germany            231445.960\n",
            "France             208388.050\n",
            "Australia          145384.050\n",
            "Spain               61748.450\n",
            "Switzerland         56740.920\n",
            "Belgium             42365.870\n",
            "Sweden              37103.470\n",
            "Name: TotalPrice, dtype: float64\n"
          ]
        }
      ]
    },
    {
      "cell_type": "markdown",
      "source": [
        "**Top 10 produtos mais vendidos**"
      ],
      "metadata": {
        "id": "S_tlr07bJ8R2"
      }
    },
    {
      "cell_type": "code",
      "source": [
        "# Agrupar por descrição do produto e calcular a quantidade total vendida\n",
        "produtos_mais_vendidos = data.groupby('Description')['Quantity'].sum()\n",
        "\n",
        "# Ordenar em ordem decrescente e pegar os top 10 produtos\n",
        "top_10_produtos = produtos_mais_vendidos.nlargest(10)\n",
        "\n",
        "print(\"\\nTop 10 produtos mais vendidos:\")\n",
        "print(top_10_produtos)\n"
      ],
      "metadata": {
        "colab": {
          "base_uri": "https://localhost:8080/"
        },
        "id": "boQ1UNNgwBr0",
        "outputId": "87c18524-d4b6-4dd5-ebe2-719e484d7ea1"
      },
      "execution_count": null,
      "outputs": [
        {
          "output_type": "stream",
          "name": "stdout",
          "text": [
            "\n",
            "Top 10 produtos mais vendidos:\n",
            "Description\n",
            "WORLD WAR 2 GLIDERS ASSTD DESIGNS     54322\n",
            "JUMBO BAG RED RETROSPOT               46764\n",
            "WHITE HANGING HEART T-LIGHT HOLDER    38835\n",
            "ASSORTED COLOUR BIRD ORNAMENT         36285\n",
            "PACK OF 72 RETROSPOT CAKE CASES       35759\n",
            "POPCORN HOLDER                        30504\n",
            "RABBIT NIGHT LIGHT                    27094\n",
            "MINI PAINT SET VINTAGE                26960\n",
            "PACK OF 12 LONDON TISSUES             26951\n",
            "PACK OF 60 PINK PAISLEY CAKE CASES    24990\n",
            "Name: Quantity, dtype: int64\n"
          ]
        }
      ]
    },
    {
      "cell_type": "markdown",
      "source": [
        "**Valor de venda total por mês**"
      ],
      "metadata": {
        "id": "4F2Up-21KAj6"
      }
    },
    {
      "cell_type": "code",
      "source": [
        "# Extrair o mês da data da fatura\n",
        "data['Month'] = data['InvoiceDate'].dt.month\n",
        "\n",
        "# Calcular o valor total de vendas por mês\n",
        "vendas_por_mes = data.groupby('Month')['TotalPrice'].sum()\n",
        "\n",
        "print(\"\\nValor de venda total por mês:\")\n",
        "print(vendas_por_mes)\n"
      ],
      "metadata": {
        "colab": {
          "base_uri": "https://localhost:8080/"
        },
        "id": "Y5lCc5FFwnUA",
        "outputId": "2215ed08-ae2b-4245-f4da-8b90b56f96d3"
      },
      "execution_count": null,
      "outputs": [
        {
          "output_type": "stream",
          "name": "stdout",
          "text": [
            "\n",
            "Valor de venda total por mês:\n",
            "Month\n",
            "1.0     281100.25\n",
            "2.0     252279.92\n",
            "3.0     270526.02\n",
            "4.0     322321.81\n",
            "5.0     375912.49\n",
            "6.0     353138.76\n",
            "7.0     391067.26\n",
            "8.0     286675.93\n",
            "9.0     130496.84\n",
            "10.0    326651.14\n",
            "11.0    382092.08\n",
            "12.0    231663.78\n",
            "Name: TotalPrice, dtype: float64\n"
          ]
        }
      ]
    },
    {
      "cell_type": "markdown",
      "source": [
        "**Valor de venda total por mês e por país (considere apenas os top 10)**"
      ],
      "metadata": {
        "id": "HV04m-blKUS_"
      }
    },
    {
      "cell_type": "code",
      "source": [
        "# Filtrar os dados apenas para os top 10 países\n",
        "data_top_10_paises = data[data['Country'].isin(top_10_paises.index)]\n",
        "\n",
        "# Agrupar por mês e país e calcular o valor total de vendas\n",
        "vendas_por_mes_pais = data_top_10_paises.groupby(['Month', 'Country'])['TotalPrice'].sum()\n",
        "\n",
        "# Resetar o índice para transformar a série em um DataFrame\n",
        "vendas_por_mes_pais = vendas_por_mes_pais.reset_index()\n",
        "\n",
        "# Reorganizar o DataFrame para que cada país seja uma coluna\n",
        "vendas_por_mes_pais_pivot = vendas_por_mes_pais.pivot(index='Month', columns='Country', values='TotalPrice')\n",
        "\n",
        "# Preencher valores NaN com 0\n",
        "vendas_por_mes_pais_pivot.fillna(0, inplace=True)\n",
        "\n",
        "print(\"\\nValor de venda total por mês e por país (top 10 países):\")\n",
        "print(vendas_por_mes_pais_pivot)\n"
      ],
      "metadata": {
        "colab": {
          "base_uri": "https://localhost:8080/"
        },
        "id": "wGkKXLz_xHbr",
        "outputId": "51a6faa5-3c6b-43aa-8bd7-c0de72b4c78a"
      },
      "execution_count": null,
      "outputs": [
        {
          "output_type": "stream",
          "name": "stdout",
          "text": [
            "\n",
            "Valor de venda total por mês e por país (top 10 países):\n",
            "Country  Australia  Belgium      EIRE    France   Germany  Netherlands  \\\n",
            "Month                                                                    \n",
            "1.0        3649.97   644.04  13690.18   6108.83   5007.75      5829.85   \n",
            "2.0         427.24  1712.05    747.38   3673.75   3831.52      4486.91   \n",
            "3.0       16933.38   970.00   3980.12   5949.88   4017.36       385.00   \n",
            "4.0         325.51  2375.27   5165.43   5939.44   7245.36         0.00   \n",
            "5.0       16619.47  1440.19  10601.16  13154.95   9061.61      2376.05   \n",
            "6.0       14987.52  1935.01  11621.28   4467.25   6939.83      1269.13   \n",
            "7.0         192.00  1889.74  10171.37   8607.70  17232.58     11649.35   \n",
            "8.0         680.50   591.15   6052.31   6888.04   6441.16      3458.56   \n",
            "9.0         210.90  1510.72   3166.31   7477.16   4251.73     13199.07   \n",
            "10.0        163.20  1251.72  11613.75   7625.14   6025.39      9823.12   \n",
            "11.0        925.00  1056.56   6753.49  13910.89  10090.01     19975.06   \n",
            "12.0       1083.92  2038.33   3588.39   6443.39  15001.62     17304.06   \n",
            "\n",
            "Country    Spain   Sweden  Switzerland  United Kingdom  \n",
            "Month                                                   \n",
            "1.0       288.98   509.50       360.80       234501.16  \n",
            "2.0         0.00   431.00      3969.62       227553.06  \n",
            "3.0      1864.40    -8.50       227.25       233363.85  \n",
            "4.0      7584.25  1618.62       693.33       288782.75  \n",
            "5.0      1092.35     0.00      4927.87       302267.11  \n",
            "6.0      -968.85  3496.79      6407.67       297991.92  \n",
            "7.0      3191.54     0.00         0.00       331422.50  \n",
            "8.0      1033.70   228.25      1239.56       251678.71  \n",
            "9.0      1849.49   319.95       754.58        74933.17  \n",
            "10.0     4223.69   -57.60      6499.77       273012.63  \n",
            "11.0     9711.45   232.18      1778.44       312917.08  \n",
            "12.0        0.00  2557.88       661.92       175701.32  \n"
          ]
        }
      ]
    },
    {
      "cell_type": "markdown",
      "source": [
        "**11 - Cálculo do RFM**"
      ],
      "metadata": {
        "id": "1vQTqQY2Kx-X"
      }
    },
    {
      "cell_type": "code",
      "source": [
        "# Agrupar os dados por cliente e número do pedido (InvoiceNo) para obter a data e o preço total do pedido\n",
        "dados_cliente_pedido = data.groupby(['CustomerID', 'InvoiceNo']).agg({\n",
        "    'InvoiceDate': 'max',                # Obter a data máxima da compra\n",
        "    'TotalPrice': 'sum'                  # Obter o preço total do pedido\n",
        "}).reset_index()\n",
        "\n",
        "# Calcular a recência (R), a frequência (F) e o valor médio (M) das compras para cada cliente\n",
        "recencia = ultima_compra - dados_cliente_pedido.groupby('CustomerID')['InvoiceDate'].max()\n",
        "frequencia = dados_cliente_pedido.groupby('CustomerID')['InvoiceNo'].nunique()\n",
        "valor_medio = dados_cliente_pedido.groupby('CustomerID')['TotalPrice'].mean().abs()  # Usar abs() para garantir que o valor médio seja positivo\n",
        "\n",
        "# Juntar as métricas de RFM em um DataFrame\n",
        "rfm = pd.concat([recencia, frequencia, valor_medio], axis=1)\n",
        "rfm.columns = ['Recencia', 'Frequencia', 'ValorMedio']\n",
        "\n",
        "print(\"RFM (Recência, Frequência, Valor Médio) para cada cliente:\")\n",
        "print(rfm)\n",
        "\n"
      ],
      "metadata": {
        "colab": {
          "base_uri": "https://localhost:8080/"
        },
        "id": "8cegargtEZxg",
        "outputId": "bbc262b4-66e9-4dfd-9dcd-d2748822a8fd"
      },
      "execution_count": null,
      "outputs": [
        {
          "output_type": "stream",
          "name": "stdout",
          "text": [
            "RFM (Recência, Frequência, Valor Médio) para cada cliente:\n",
            "                    Recencia  Frequencia     ValorMedio\n",
            "CustomerID                                             \n",
            "12346                    NaT           1  154367.200000\n",
            "12347       95 days 04:18:00           7     615.714286\n",
            "12348      220 days 06:32:00           4     449.310000\n",
            "12349                    NaT           1    1757.550000\n",
            "12350      311 days 01:18:00           1     334.400000\n",
            "...                      ...         ...            ...\n",
            "18280      160 days 07:27:00           1     180.600000\n",
            "18281        4 days 06:26:00           1      80.820000\n",
            "18282       93 days 02:09:00           3      58.866667\n",
            "18283       60 days 02:12:00          16     137.708125\n",
            "18287        0 days 06:56:00           3     612.426667\n",
            "\n",
            "[4371 rows x 3 columns]\n"
          ]
        }
      ]
    },
    {
      "cell_type": "code",
      "source": [
        "# Definir o nome do arquivo Excel de saída\n",
        "nome_arquivo_excel = 'rfm_clientes.xlsx'\n",
        "\n",
        "# Salvar o DataFrame rfm em um arquivo Excel\n",
        "rfm.to_excel(nome_arquivo_excel, index=True)\n",
        "\n",
        "print(\"Arquivo Excel salvo com sucesso:\", nome_arquivo_excel)\n"
      ],
      "metadata": {
        "colab": {
          "base_uri": "https://localhost:8080/"
        },
        "id": "INRBMXEgFHTX",
        "outputId": "49bbb210-179d-4adb-8e63-53935da1c544"
      },
      "execution_count": null,
      "outputs": [
        {
          "output_type": "stream",
          "name": "stdout",
          "text": [
            "Arquivo Excel salvo com sucesso: rfm_clientes.xlsx\n"
          ]
        }
      ]
    }
  ]
}